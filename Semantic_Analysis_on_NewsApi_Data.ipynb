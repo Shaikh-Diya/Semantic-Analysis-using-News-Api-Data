{
 "cells": [
  {
   "cell_type": "code",
   "execution_count": 2,
   "metadata": {},
   "outputs": [],
   "source": [
    "import pandas as pd\n",
    "df = pd.read_csv('clean_news_Articles.csv')\n",
    "# df.head()"
   ]
  },
  {
   "cell_type": "code",
   "execution_count": 3,
   "metadata": {},
   "outputs": [],
   "source": [
    "df_new = df[df['content'].notnull()]\n",
    "contentList = df_new['content'].values.tolist()\n",
    "# print(contentList)"
   ]
  },
  {
   "cell_type": "code",
   "execution_count": 4,
   "metadata": {},
   "outputs": [],
   "source": [
    "j=0\n",
    "#txt = \" \"\n",
    "for i in contentList:\n",
    "    txt = contentList[j]\n",
    "#     print(txt.split())\n",
    "    contentList[j] = txt.split()\n",
    "    j+=1"
   ]
  },
  {
   "cell_type": "code",
   "execution_count": 5,
   "metadata": {},
   "outputs": [
    {
     "name": "stdout",
     "output_type": "stream",
     "text": [
      "5.823529411764706\n",
      "Canada: 17 University: 4 Halifax: 11 Dalhousie: 12 Canada Education: 0\n"
     ]
    }
   ],
   "source": [
    "# Part a\n",
    "import csv\n",
    "with open('semantic_analysis_a.csv', 'w') as file:\n",
    "    writer = csv.writer(file)\n",
    "    writer.writerow([\"Search\", \"Documents\", \"TotalDocs\", \"LogN/df\"])\n",
    "canada = 0\n",
    "university = 0\n",
    "halifax = 0\n",
    "dalhousie = 0\n",
    "canadaEdu = 0\n",
    "\n",
    "for ix, i in enumerate(contentList):\n",
    "#     length = len(i)\n",
    "    if(\"canada\" in i or \"Canada\" in i or \"CANADA\" in i):\n",
    "        canada+=1\n",
    "    if(\"university\" in i or \"University\" in i or \"UNIVERSITY\" in i):\n",
    "        university+=1\n",
    "    if(\"halifax\" in i or \"Halifax\" in i or \"HALIFAX\" in i):\n",
    "        halifax+=1\n",
    "    if(\"Dalhousie University\" in i or \"dalhousie\" in i or \"Dalhousie\" in i or \"DALHOUSIE\" in i):\n",
    "        dalhousie+=1\n",
    "    if(\"Canada Education\" in i):\n",
    "        canadaEdu += 1\n",
    "        \n",
    "        \n",
    "\n",
    "log_canada = ix/canada\n",
    "log_university = ix/university\n",
    "log_halifax = ix/halifax\n",
    "log_dalhousie = ix/dalhousie\n",
    "log_canadaEdu = ix/1\n",
    "print(log_canada)\n",
    "# print(length)\n",
    "with open('semantic_analysis_a.csv', 'a') as file:\n",
    "    writer = csv.writer(file)\n",
    "    writer.writerow(['Canada', str(canada), str(ix), str(log_canada)])\n",
    "    writer.writerow(['University', str(university), str(ix), str(log_university)])\n",
    "    writer.writerow(['Halifax', str(halifax), str(ix), str(log_halifax)])\n",
    "    writer.writerow(['Dalhousie', str(dalhousie), str(ix), str(log_dalhousie)])\n",
    "    writer.writerow(['Canada Education', str(canadaEdu), str(ix), str(log_canadaEdu)])\n",
    "    \n",
    "print(\"Canada: \" + str(canada) + \" University: \" + str(university) + \" Halifax: \" + str(halifax) + \" Dalhousie: \" + str(dalhousie) + \" Canada Education: \" + str(canadaEdu))"
   ]
  },
  {
   "cell_type": "code",
   "execution_count": 6,
   "metadata": {},
   "outputs": [
    {
     "name": "stdout",
     "output_type": "stream",
     "text": [
      "Article#1\n"
     ]
    }
   ],
   "source": [
    "# Part b\n",
    "import csv\n",
    "with open('semantic_analysis_b.csv', 'w') as file:\n",
    "    writer = csv.writer(file)\n",
    "    writer.writerow([\"Articles\", \"TotalWords(m)\", \"Frequency(f)\"])\n",
    "maximum = 0\n",
    "for ix, i in enumerate(contentList):\n",
    "    frequency = 0\n",
    "    flag = False\n",
    "    for j in i:\n",
    "        count = len(i)\n",
    "\n",
    "        if(str(j)==\"canada\" or str(j)==\"Canada\"):\n",
    "            frequency+=1\n",
    "            flag = True\n",
    "    article_canada = ix+1\n",
    "    if(flag == True):\n",
    "        with open('semantic_analysis_b.csv', 'a') as file:\n",
    "            writer = csv.writer(file)\n",
    "            writer.writerow(['Article#' +str(article_canada), str(count), str(frequency)])\n",
    "#       Part c\n",
    "        max_freq = frequency/count\n",
    "        if(max_freq>maximum):\n",
    "            maximum = max_freq\n",
    "            print(\"Article#\" + str(article_canada))\n",
    "#         print(\"Article#\" + str(article_canada) + \" \" + \"words = \" + str(count) + \" \" + str(frequency))\n",
    "             "
   ]
  },
  {
   "cell_type": "code",
   "execution_count": 1,
   "metadata": {},
   "outputs": [],
   "source": []
  },
  {
   "cell_type": "code",
   "execution_count": null,
   "metadata": {},
   "outputs": [],
   "source": []
  }
 ],
 "metadata": {
  "kernelspec": {
   "display_name": "Python 3",
   "language": "python",
   "name": "python3"
  },
  "language_info": {
   "codemirror_mode": {
    "name": "ipython",
    "version": 3
   },
   "file_extension": ".py",
   "mimetype": "text/x-python",
   "name": "python",
   "nbconvert_exporter": "python",
   "pygments_lexer": "ipython3",
   "version": "3.7.4"
  }
 },
 "nbformat": 4,
 "nbformat_minor": 2
}
